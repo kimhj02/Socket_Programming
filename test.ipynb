{
 "cells": [
  {
   "cell_type": "code",
   "execution_count": 1,
   "metadata": {},
   "outputs": [
    {
     "name": "stdout",
     "output_type": "stream",
     "text": [
      "[SERVER] Listening on port 12000...\n"
     ]
    }
   ],
   "source": [
    "import socket  # 소켓 프로그래밍\n",
    "import json    # JSON 데이터 처리\n",
    "import threading  # 다중 클라이언트 처리를 위한 스레딩\n",
    "\n",
    "HOST = '0.0.0.0'   # 모든 IP로부터 접속 허용\n",
    "PORT = 12000       # 포트 번호\n",
    "BUFFER_SIZE = 2048 # 데이터 수신 크기\n",
    "\n",
    "# 메시지를 처리하는 함수: 옵션에 따라 다르게 응답\n",
    "def process_message(username, message, option_raw):\n",
    "    try:\n",
    "        if \".\" in str(option_raw):\n",
    "            raise ValueError(\"float\")  # 실수 예외 처리\n",
    "\n",
    "        option = int(option_raw)\n",
    "\n",
    "        if option < 1:  # 1 미만\n",
    "            return {'status': 401, 'error': 'option input error: integer less than 1'}, False\n",
    "        elif option > 4:  # 4 초과\n",
    "            return {'status': 403, 'error': 'option input error: greater than 4'}, False\n",
    "\n",
    "    except ValueError as ve:\n",
    "        if str(ve) == \"float\":  # 실수\n",
    "            return {'status': 402, 'error': 'option input error: non-integer'}, False\n",
    "        else:  # 문자 등 기타\n",
    "            return {'status': 405, 'error': 'option input error: non-numeric input'}, False\n",
    "\n",
    "    # 실제 메시지 처리\n",
    "    if option == 1:  # 그대로\n",
    "        result = message\n",
    "    elif option == 2:  # 대문자\n",
    "        result = message.upper()\n",
    "    elif option == 3:  # 소문자\n",
    "        result = message.lower()\n",
    "\n",
    "    return {'status': 200, 'message': f'[{username}]: {result}'}, False\n",
    "\n",
    "# 서버 실행 함수\n",
    "def start_server():\n",
    "    with socket.socket(socket.AF_INET, socket.SOCK_STREAM) as server_socket:\n",
    "        server_socket.setsockopt(socket.SOL_SOCKET, socket.SO_REUSEADDR, 1)  # 포트 재사용\n",
    "        server_socket.bind((HOST, PORT))\n",
    "        server_socket.listen(5)\n",
    "        print(f\"[SERVER] Listening on port {PORT}...\")\n",
    "\n",
    "        while True:\n",
    "            client_socket, addr = server_socket.accept()\n",
    "            with client_socket:\n",
    "                data = client_socket.recv(BUFFER_SIZE).decode()\n",
    "\n",
    "                try:\n",
    "                    request = json.loads(data)\n",
    "                    username = request.get('user')\n",
    "                    message = request.get('message')\n",
    "                    option = request.get('echooption')\n",
    "\n",
    "                    response, _ = process_message(username, message, option)\n",
    "                    client_socket.sendall(json.dumps(response).encode())\n",
    "\n",
    "                    print(f\"[RECV] {request}\")\n",
    "                    print(f\"[SEND] {response}\")\n",
    "\n",
    "                except Exception as e:\n",
    "                    error_response = json.dumps({\"status\": 500, \"error\": \"Invalid request format\"})\n",
    "                    client_socket.sendall(error_response.encode())\n",
    "                    print(f\"[ERROR] {e}\")\n",
    "\n",
    "# 서버를 백그라운드 스레드로 실행\n",
    "server_thread = threading.Thread(target=start_server, daemon=True)\n",
    "server_thread.start()"
   ]
  },
  {
   "cell_type": "code",
   "execution_count": 2,
   "metadata": {},
   "outputs": [
    {
     "name": "stdout",
     "output_type": "stream",
     "text": [
      "[CLIENT] 연결을 시작합니다.\n",
      "응답: [김현진]: QWER , status: 200\n",
      "응답: [김현진]: qwer , status: 200\n",
      "응답: [김현진]: qwer , status: 200\n",
      "[CLIENT] 종료 요청. 서버에 패킷을 보내지 않고 종료합니다.\n"
     ]
    },
    {
     "name": "stdout",
     "output_type": "stream",
     "text": [
      "[RECV] {'user': '김현진', 'echooption': '2', 'message': 'qwer'}\n",
      "[SEND] {'status': 200, 'message': '[김현진]: QWER'}\n",
      "[RECV] {'user': '김현진', 'echooption': '3', 'message': 'QWER'}\n",
      "[SEND] {'status': 200, 'message': '[김현진]: qwer'}\n",
      "[RECV] {'user': '김현진', 'echooption': '1', 'message': 'qwer'}\n",
      "[SEND] {'status': 200, 'message': '[김현진]: qwer'}\n"
     ]
    }
   ],
   "source": [
    "import socket\n",
    "import json\n",
    "\n",
    "SERVER_HOST = '127.0.0.1'\n",
    "SERVER_PORT = 12000\n",
    "BUFFER_SIZE = 2048\n",
    "\n",
    "print(\"[CLIENT] 연결을 시작합니다.\")\n",
    "username = input(\"사용자 이름: \")\n",
    "\n",
    "while True:\n",
    "    option_input = input(\"옵션 (1: 그대로, 2: 대문자, 3: 소문자, 4: 종료): \")\n",
    "\n",
    "    # 💡 옵션 4 입력 시 패킷 전송 없이 종료\n",
    "    if option_input.strip() == \"4\":\n",
    "        print(\"[CLIENT] 종료 요청.\")\n",
    "        break\n",
    "\n",
    "    message = input(\"메시지 입력: \") \n",
    "\n",
    "    packet = {\n",
    "        \"user\": username,\n",
    "        \"echooption\": option_input,\n",
    "        \"message\": message\n",
    "    }\n",
    "\n",
    "    try:\n",
    "        with socket.socket(socket.AF_INET, socket.SOCK_STREAM) as client_socket:\n",
    "            client_socket.connect((SERVER_HOST, SERVER_PORT))\n",
    "            client_socket.sendall(json.dumps(packet).encode())\n",
    "\n",
    "            response = client_socket.recv(BUFFER_SIZE).decode()\n",
    "            response_data = json.loads(response)\n",
    "\n",
    "            # 정상 메시지 출력\n",
    "            if \"message\" in response_data:\n",
    "                print(\"응답:\", response_data[\"message\"], \", status:\", response_data[\"status\"])\n",
    "            # 오류 메시지 출력\n",
    "            elif \"error\" in response_data:\n",
    "                print(f\"오류 {response_data['status']}: {response_data['error']}\")\n",
    "\n",
    "    except Exception as e:\n",
    "        print(f\"[ERROR] 서버 연결 실패: {e}\")"
   ]
  },
  {
   "cell_type": "code",
   "execution_count": null,
   "metadata": {},
   "outputs": [],
   "source": []
  }
 ],
 "metadata": {
  "kernelspec": {
   "display_name": "Python 3",
   "language": "python",
   "name": "python3"
  },
  "language_info": {
   "codemirror_mode": {
    "name": "ipython",
    "version": 3
   },
   "file_extension": ".py",
   "mimetype": "text/x-python",
   "name": "python",
   "nbconvert_exporter": "python",
   "pygments_lexer": "ipython3",
   "version": "3.9.6"
  }
 },
 "nbformat": 4,
 "nbformat_minor": 2
}
