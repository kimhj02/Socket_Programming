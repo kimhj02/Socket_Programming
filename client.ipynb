{
 "cells": [
  {
   "cell_type": "code",
   "execution_count": 26,
   "metadata": {},
   "outputs": [
    {
     "name": "stdout",
     "output_type": "stream",
     "text": [
      "[CLIENT] 연결을 시작합니다.\n",
      "오류 401: option input error: integer less than 1\n",
      "오류 402: option input error: greater than 4\n",
      "오류 403: option input error: non-integer\n",
      "오류 403: option input error: non-integer\n",
      "오류 403: option input error: non-integer\n",
      "오류 405: option input error: non-numeric input\n",
      "[CLIENT] 종료 요청.\n"
     ]
    }
   ],
   "source": [
    "import socket\n",
    "import json\n",
    "\n",
    "SERVER_HOST = '127.0.0.1'\n",
    "SERVER_PORT = 12008\n",
    "BUFFER_SIZE = 2048\n",
    "\n",
    "print(\"[CLIENT] 연결을 시작합니다.\")\n",
    "username = input(\"사용자 이름: \") #사용자 이름 입력(한번만 입력)\n",
    "\n",
    "while True:\n",
    "    option_input = input(\"옵션 (1: 그대로, 2: 대문자, 3: 소문자, 4: 종료): \") #옵션 예시\n",
    "\n",
    "    if option_input.strip() == \"4\": #4라면 서버에 패킷을 전송하지 않고, 클라이언트에서 종료\n",
    "        print(\"[CLIENT] 종료 요청.\")\n",
    "        break\n",
    "\n",
    "    message = input(\"메시지 입력: \") #메시지 입력\n",
    "\n",
    "    packet = { #JSON 형태로 패킷 만들기\n",
    "        \"user\": username,\n",
    "        \"echooption\": option_input,\n",
    "        \"message\": message\n",
    "    }\n",
    "\n",
    "    try:\n",
    "        with socket.socket(socket.AF_INET, socket.SOCK_STREAM) as client_socket: #서버 연결\n",
    "            client_socket.connect((SERVER_HOST, SERVER_PORT))\n",
    "            client_socket.sendall(json.dumps(packet).encode()) #서버로 전송\n",
    "\n",
    "            response = client_socket.recv(BUFFER_SIZE).decode() #서버로부터 받음\n",
    "            response_data = json.loads(response) #파싱\n",
    "\n",
    "            if \"message\" in response_data: #응답 받은 데이터에 message가 있다면\n",
    "                print(f\"응답: {response_data['message']}, status: {response_data['status']}\") #정상 변경 메시지와 상태 코드 출력\n",
    "            elif \"error\" in response_data: #응답 받은 데이터에 error가 있다면\n",
    "                print(f\"오류 {response_data['status']}: {response_data['error']}\") #오류 상태 코드 출력 및 메시지 출력\n",
    "\n",
    "    except Exception as e: #그 외에 에러가 발생하면\n",
    "        print(f\"[ERROR] 서버 연결 실패: {e}\")"
   ]
  },
  {
   "cell_type": "code",
   "execution_count": null,
   "metadata": {},
   "outputs": [],
   "source": []
  }
 ],
 "metadata": {
  "kernelspec": {
   "display_name": "Python 3",
   "language": "python",
   "name": "python3"
  },
  "language_info": {
   "codemirror_mode": {
    "name": "ipython",
    "version": 3
   },
   "file_extension": ".py",
   "mimetype": "text/x-python",
   "name": "python",
   "nbconvert_exporter": "python",
   "pygments_lexer": "ipython3",
   "version": "3.9.6"
  }
 },
 "nbformat": 4,
 "nbformat_minor": 2
}
