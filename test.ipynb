{
 "cells": [
  {
   "cell_type": "code",
   "execution_count": 5,
   "metadata": {},
   "outputs": [
    {
     "name": "stderr",
     "output_type": "stream",
     "text": [
      "Exception in thread Thread-10:\n",
      "Traceback (most recent call last):\n",
      "  File \"/Library/Developer/CommandLineTools/Library/Frameworks/Python3.framework/Versions/3.9/lib/python3.9/threading.py\", line 973, in _bootstrap_inner\n",
      "    self.run()\n",
      "  File \"/Users/gimhyeonjin/Library/Python/3.9/lib/python/site-packages/ipykernel/ipkernel.py\", line 766, in run_closure\n"
     ]
    },
    {
     "name": "stderr",
     "output_type": "stream",
     "text": [
      "    _threading_Thread_run(self)\n",
      "  File \"/Library/Developer/CommandLineTools/Library/Frameworks/Python3.framework/Versions/3.9/lib/python3.9/threading.py\", line 910, in run\n",
      "    self._target(*self._args, **self._kwargs)\n",
      "  File \"/var/folders/xx/z516r8t944qclv1416b4lq3w0000gn/T/ipykernel_84288/868119538.py\", line 24, in start_server\n",
      "OSError: [Errno 48] Address already in use\n"
     ]
    }
   ],
   "source": [
    "import socket # 소켓 프로그래밍 용 라이브러리 import\n",
    "import json # 정보 전달용 json import\n",
    "import threading #프로세스를 담당하기 위한 treading import\n",
    "\n",
    "HOST = '0.0.0.0' # host는 로컬\n",
    "PORT = 12000 # 포트 번호는 12000\n",
    "BUFFER_SIZE = 2048 # 버퍼 사이즈 2048byte로 사용\n",
    "\n",
    "def process_message(username, message, option): #메세지 처리(선택 1,2,3,4)\n",
    "    if option == 1: #1 이면 메세지 그대로 출력\n",
    "        result = message\n",
    "    elif option == 2: #2 이면 대문자로 바꿔서 출력\n",
    "        result = message.upper()\n",
    "    elif option == 3: #3 이면 소문자로 바꿔서 출력\n",
    "        result = message.lower()\n",
    "    elif option == 4: #4 이면 프로그램 종료\n",
    "        return {'status': 200, 'message': f'[{username}]: goodbye'}, True #종료할 때 따로 print를 하는게 아니라 json에 종료 메세지를 넣어서 그대로 출력\n",
    "    else:\n",
    "        return {'status': 400 + option, 'error': 'Invalid echo option'}, False #이상한 값이 들어온다면 오류 메세지 출력\n",
    "    return {'status': 200, 'message': f'[{username}]: {result}'}, False #반환\n",
    "\n",
    "def start_server():\n",
    "    with socket.socket(socket.AF_INET, socket.SOCK_STREAM) as server_socket:\n",
    "        server_socket.bind((HOST, PORT))\n",
    "        server_socket.listen(5)\n",
    "        print(f\"[SERVER] Listening on port {PORT}...\")\n",
    "\n",
    "        while True:\n",
    "            client_socket, addr = server_socket.accept()\n",
    "            with client_socket:\n",
    "                data = client_socket.recv(BUFFER_SIZE).decode()\n",
    "\n",
    "                try:\n",
    "                    request = json.loads(data)\n",
    "                    username = request.get('user')\n",
    "                    message = request.get('message')\n",
    "                    option = int(request.get('echoOption'))\n",
    "\n",
    "                    response, should_exit = process_message(username, message, option)\n",
    "                    client_socket.sendall(json.dumps(response).encode())\n",
    "\n",
    "                    print(f\"[RECV] {request}\")\n",
    "                    print(f\"[SEND] {response}\")\n",
    "\n",
    "                    if should_exit: \n",
    "                        break\n",
    "                except Exception as e: #예외 처리\n",
    "                    error_response = json.dumps({\"status\": 500, \"error\": \"Invalid request format\"})\n",
    "                    client_socket.sendall(error_response.encode())\n",
    "                    print(f\"[ERROR] {e}\")\n",
    "\n",
    "# 스레드로 실행\n",
    "server_thread = threading.Thread(target=start_server, daemon=True)\n",
    "server_thread.start()"
   ]
  },
  {
   "cell_type": "code",
   "execution_count": 6,
   "metadata": {},
   "outputs": [
    {
     "name": "stdout",
     "output_type": "stream",
     "text": [
      "응답: 채주혁]: 바보\n",
      "응답: 채주혁]: TEST\n",
      "응답: 채주혁]: dfsfdsa\n",
      "[INFO] 종료 요청\n"
     ]
    }
   ],
   "source": [
    "import socket\n",
    "import json\n",
    "\n",
    "SERVER_HOST = '127.0.0.1'\n",
    "SERVER_PORT = 12000\n",
    "BUFFER_SIZE = 2048\n",
    "\n",
    "username = input(\"사용자 이름: \")\n",
    "\n",
    "while True:\n",
    "    try:\n",
    "        option = int(input(\"옵션 (1: 그대로, 2: 대문자, 3: 소문자, 4: 종료): \"))\n",
    "        if option < 1 or option > 4:\n",
    "            print(\"[ERROR] 옵션은 1~4 사이의 정수여야 합니다.\")\n",
    "            continue\n",
    "    except ValueError:\n",
    "        print(\"[ERROR] 숫자를 입력해주세요.\")\n",
    "        continue\n",
    "\n",
    "    if option == 4:\n",
    "        print(\"[INFO] 종료 요청\")\n",
    "        break\n",
    "\n",
    "    message = input(\"메시지 입력: \")\n",
    "\n",
    "    packet = { #json 형태로 입력\n",
    "        \"user\": username,\n",
    "        \"echoOption\": option,\n",
    "        \"message\": message\n",
    "    }\n",
    "\n",
    "    try:\n",
    "        with socket.socket(socket.AF_INET, socket.SOCK_STREAM) as client_socket:\n",
    "            client_socket.connect((SERVER_HOST, SERVER_PORT))\n",
    "            client_socket.sendall(json.dumps(packet).encode())\n",
    "\n",
    "            response = client_socket.recv(BUFFER_SIZE).decode()\n",
    "            response_data = json.loads(response)\n",
    "\n",
    "            if \"message\" in response_data:\n",
    "                print(\"응답:\", response_data[\"message\"])\n",
    "            elif \"error\" in response_data:\n",
    "                print(f\"오류 {response_data['status']}: {response_data['error']}\")\n",
    "    except Exception as e:\n",
    "        print(f\"[ERROR] 서버 연결 실패: {e}\")"
   ]
  },
  {
   "cell_type": "code",
   "execution_count": null,
   "metadata": {},
   "outputs": [],
   "source": []
  }
 ],
 "metadata": {
  "kernelspec": {
   "display_name": "Python 3",
   "language": "python",
   "name": "python3"
  },
  "language_info": {
   "codemirror_mode": {
    "name": "ipython",
    "version": 3
   },
   "file_extension": ".py",
   "mimetype": "text/x-python",
   "name": "python",
   "nbconvert_exporter": "python",
   "pygments_lexer": "ipython3",
   "version": "3.9.6"
  }
 },
 "nbformat": 4,
 "nbformat_minor": 2
}
